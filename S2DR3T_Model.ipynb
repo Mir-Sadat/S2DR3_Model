# Make sure to select T4 GPU instance from the Runtime/Change-runtime-type menu
# OPTIONAL: Lo link your Google Drive to store output files uncomment and modify the following line
#!ln -s /content/drive/MyDrive/{PATH_TO_OUTPUT_FILES} /content/output
!pip -q install https://storage.googleapis.com/0x7ff601307fa5/s2dr3-20250307.1-cp311-cp311-linux_x86_64.whl


import s2dr3.inferutils
import requests
from google.colab import drive
import os
import re

# Mount Google Drive
drive.mount('/content/drive')

# Create output directory
output_dir = '/content/drive/MyDrive/S2DR3T'
os.makedirs(output_dir, exist_ok=True)

# Input parameters
lonlat = (70.83406500889362, 36.868045959422076)
date = '2023-06-07'

# Run inference
result = s2dr3.inferutils.test(lonlat, date)

# Try to extract preview URL
preview_url = None
if result and 'preview' in result:
    preview_url = result['preview']
elif isinstance(result, str) and result.startswith('http'):
    # Sometimes test() returns URL directly
    preview_url = result

if preview_url:
    print(f"Preview URL: {preview_url}")

    # Extract acquisition date from URL if possible
    match = re.search(r'ds=[^-]+-[^-]+-(\d{8})', preview_url)
    if match:
        acq_date = match.group(1)
    else:
        acq_date = date.replace('-', '')

    # Download preview image
    image_response = requests.get(preview_url)
    if image_response.status_code == 200:
        file_path = os.path.join(output_dir, f's2dr3_preview_{acq_date}.png')
        with open(file_path, 'wb') as f:
            f.write(image_response.content)
        print(f"Image saved to {file_path}")
    else:
        print(f"Failed to download image, status code {image_response.status_code}")
else:
    print("No preview URL found in the result.")

# Optional: print metadata if available
if result and isinstance(result, dict) and 'meta' in result:
    actual_date = result['meta'].get('acquisition_date', 'Unknown')
    print(f"Requested date: {date}")
    print(f"Actual acquisition date: {actual_date}")
else:
    print("Metadata not found.")